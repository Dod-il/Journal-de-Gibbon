{
 "cells": [
  {
   "cell_type": "code",
   "execution_count": 54,
   "metadata": {},
   "outputs": [],
   "source": [
    "import pandas as pd\n",
    "import networkx as nx\n",
    "import matplotlib.pyplot as plt\n",
    "import numpy as np\n",
    "import json"
   ]
  },
  {
   "cell_type": "code",
   "execution_count": 55,
   "metadata": {},
   "outputs": [],
   "source": [
    "df = pd.read_excel('index_relations.xlsx',dtype=str) #tableau excel, copie de la page \"Wiki\" de \"Liste_Relations.xlsx\" (sans la colonne \"sources\")"
   ]
  },
  {
   "cell_type": "code",
   "execution_count": 56,
   "metadata": {},
   "outputs": [],
   "source": [
    "#df"
   ]
  },
  {
   "cell_type": "code",
   "execution_count": 57,
   "metadata": {},
   "outputs": [],
   "source": [
    "dt = pd.read_excel('toutes_relations.xlsx',dtype=str) #tableau excel, copie de la page \"Data - Relations\" de \"Liste_Relations.xlsx\""
   ]
  },
  {
   "cell_type": "code",
   "execution_count": 58,
   "metadata": {},
   "outputs": [],
   "source": [
    "#int(dt.loc[dt['id_rencontre'] == '232', 'id_date'].values[0])"
   ]
  },
  {
   "cell_type": "code",
   "execution_count": 59,
   "metadata": {},
   "outputs": [],
   "source": [
    "all_links = []\n",
    "\n",
    "avec_gibbon = True #change dans les graphes si il y a des liens au node Gibbon ou non\n",
    "\n",
    "for row_1 in df.itertuples():\n",
    "    for row_2 in df.itertuples():\n",
    "        if (row_1.Index > row_2.Index):\n",
    "            str1 = str(row_1.id_rencontres)\n",
    "            str2 = str(row_2.id_rencontres)\n",
    "            str1 = str1.replace('.',',')\n",
    "            str2 = str2.replace('.',',')\n",
    "            if str1 == 'nan':\n",
    "                str1 = '-1'\n",
    "            if str2 == 'nan':\n",
    "                str2 = '-2'\n",
    "            #print(str1,' ',str2)\n",
    "            ar1 = np.array(str1.split(','),dtype=int)\n",
    "            ar2 = np.array(str2.split(','),dtype=int)\n",
    "            rencontres = np.intersect1d(ar1,ar2)\n",
    "            for renc in rencontres:\n",
    "                if avec_gibbon:\n",
    "                    all_links.append({'pers1': row_1.id_personne, 'pers2': row_2.id_personne, 'date': int(dt.loc[dt['id_rencontre'] == str(renc), 'id_date'].values[0])})\n",
    "                else:\n",
    "                    if not (row_1.id_personne == '0' or row_2.id_personne == '0'):\n",
    "                        all_links.append({'pers1': row_1.id_personne, 'pers2': row_2.id_personne, 'date': int(dt.loc[dt['id_rencontre'] == str(renc), 'id_date'].values[0])})"
   ]
  },
  {
   "cell_type": "code",
   "execution_count": 60,
   "metadata": {},
   "outputs": [],
   "source": [
    "if avec_gibbon:\n",
    "    with open('links.json','w') as file:\n",
    "        json.dump(all_links,file)\n",
    "else:\n",
    "    with open('links_sans_gibbon.json','w') as file:\n",
    "        json.dump(all_links,file)"
   ]
  },
  {
   "cell_type": "code",
   "execution_count": 61,
   "metadata": {},
   "outputs": [],
   "source": [
    "#df"
   ]
  },
  {
   "cell_type": "code",
   "execution_count": 62,
   "metadata": {},
   "outputs": [],
   "source": [
    "all_nodes = []\n",
    "\n",
    "for row in df.itertuples():\n",
    "    all_nodes.append({'id': row.id_personne, 'nom': row.nom_ref, 'f_m': row.f_m,'prenom': row.prenom,\n",
    "                     'nom_1': row.nom_1, 'nom_2': row.nom_2, 'nom_3': row.nom_3, 'nom_4': row.nom_4,\n",
    "                     'profession': row.profession, 'rang social': row.rang_social,\n",
    "                     'residence': row.residence, 'remarques': row.remarques})"
   ]
  },
  {
   "cell_type": "code",
   "execution_count": 63,
   "metadata": {},
   "outputs": [],
   "source": [
    "with open('nodes.json','w') as file:\n",
    "    json.dump(all_nodes,file)"
   ]
  },
  {
   "cell_type": "code",
   "execution_count": null,
   "metadata": {},
   "outputs": [],
   "source": []
  }
 ],
 "metadata": {
  "kernelspec": {
   "display_name": "Python 3",
   "language": "python",
   "name": "python3"
  },
  "language_info": {
   "codemirror_mode": {
    "name": "ipython",
    "version": 3
   },
   "file_extension": ".py",
   "mimetype": "text/x-python",
   "name": "python",
   "nbconvert_exporter": "python",
   "pygments_lexer": "ipython3",
   "version": "3.10.0"
  },
  "orig_nbformat": 4
 },
 "nbformat": 4,
 "nbformat_minor": 2
}
